{
 "metadata": {
  "language_info": {
   "codemirror_mode": {
    "name": "ipython",
    "version": 3
   },
   "file_extension": ".py",
   "mimetype": "text/x-python",
   "name": "python",
   "nbconvert_exporter": "python",
   "pygments_lexer": "ipython3",
   "version": "3.8.5-final"
  },
  "orig_nbformat": 2,
  "kernelspec": {
   "name": "python3",
   "display_name": "Python 3.8.5 64-bit ('dme': conda)",
   "metadata": {
    "interpreter": {
     "hash": "839e731d81bf765eb9ede10cfece8761e8c41c87d3f5025571c92a6081486897"
    }
   }
  }
 },
 "nbformat": 4,
 "nbformat_minor": 2,
 "cells": [
  {
   "cell_type": "code",
   "execution_count": 18,
   "metadata": {},
   "outputs": [],
   "source": [
    "import numpy as np\n",
    "import pandas as pd\n",
    "import tensorflow as tf\n",
    "from sklearn.model_selection import train_test_split"
   ]
  },
  {
   "cell_type": "code",
   "execution_count": 5,
   "metadata": {},
   "outputs": [],
   "source": [
    "df = pd.read_csv('recipes/recipes.csv', header=0)"
   ]
  },
  {
   "cell_type": "code",
   "execution_count": 6,
   "metadata": {},
   "outputs": [
    {
     "output_type": "execute_result",
     "data": {
      "text/plain": [
       "      'acorn squash'  adobo  'african birdseye chile pepper'  ale  \\\n",
       "0                  0      0                                0    0   \n",
       "1                  0      0                                0    0   \n",
       "2                  0      0                                0    0   \n",
       "3                  0      0                                0    0   \n",
       "4                  0      0                                0    0   \n",
       "...              ...    ...                              ...  ...   \n",
       "4231               0      0                                0    0   \n",
       "4232               0      0                                0    0   \n",
       "4233               0      0                                0    0   \n",
       "4234               0      0                                0    0   \n",
       "4235               0      0                                0    0   \n",
       "\n",
       "      'aleppo pepper'  'alfalfa sprouts'  'alfredo sauce'  allspice  almond  \\\n",
       "0                   0                  0                0         0       0   \n",
       "1                   0                  0                0         0       0   \n",
       "2                   0                  0                0         0       0   \n",
       "3                   0                  0                0         0       0   \n",
       "4                   0                  0                0         0       0   \n",
       "...               ...                ...              ...       ...     ...   \n",
       "4231                0                  0                0         0       0   \n",
       "4232                0                  0                0         0       0   \n",
       "4233                0                  0                0         0       0   \n",
       "4234                0                  0                0         0       0   \n",
       "4235                0                  0                0         0       0   \n",
       "\n",
       "      'almond butter'  ...  yeast  'yellow curry paste'  \\\n",
       "0                   0  ...      0                     0   \n",
       "1                   0  ...      0                     0   \n",
       "2                   0  ...      0                     0   \n",
       "3                   0  ...      0                     0   \n",
       "4                   0  ...      0                     0   \n",
       "...               ...  ...    ...                   ...   \n",
       "4231                0  ...      0                     0   \n",
       "4232                0  ...      0                     0   \n",
       "4233                0  ...      0                     0   \n",
       "4234                0  ...      0                     0   \n",
       "4235                0  ...      0                     0   \n",
       "\n",
       "      'yellow food coloring'  'yellow split pea'  'yellow squash'  yogurt  \\\n",
       "0                          0                   0                0       0   \n",
       "1                          0                   0                0       0   \n",
       "2                          0                   0                0       0   \n",
       "3                          0                   0                0       0   \n",
       "4                          0                   0                0       0   \n",
       "...                      ...                 ...              ...     ...   \n",
       "4231                       0                   0                0       0   \n",
       "4232                       0                   0                0       0   \n",
       "4233                       0                   0                0       0   \n",
       "4234                       0                   0                0       0   \n",
       "4235                       0                   0                0       0   \n",
       "\n",
       "      zaatar  zest  zucchini  cuisine  \n",
       "0          0     0         0        0  \n",
       "1          0     0         0        0  \n",
       "2          0     0         0        0  \n",
       "3          0     0         0        0  \n",
       "4          0     0         0        0  \n",
       "...      ...   ...       ...      ...  \n",
       "4231       0     0         0       11  \n",
       "4232       0     0         0       11  \n",
       "4233       0     0         0       11  \n",
       "4234       0     0         0       11  \n",
       "4235       0     0         0       11  \n",
       "\n",
       "[4236 rows x 710 columns]"
      ],
      "text/html": "<div>\n<style scoped>\n    .dataframe tbody tr th:only-of-type {\n        vertical-align: middle;\n    }\n\n    .dataframe tbody tr th {\n        vertical-align: top;\n    }\n\n    .dataframe thead th {\n        text-align: right;\n    }\n</style>\n<table border=\"1\" class=\"dataframe\">\n  <thead>\n    <tr style=\"text-align: right;\">\n      <th></th>\n      <th>'acorn squash'</th>\n      <th>adobo</th>\n      <th>'african birdseye chile pepper'</th>\n      <th>ale</th>\n      <th>'aleppo pepper'</th>\n      <th>'alfalfa sprouts'</th>\n      <th>'alfredo sauce'</th>\n      <th>allspice</th>\n      <th>almond</th>\n      <th>'almond butter'</th>\n      <th>...</th>\n      <th>yeast</th>\n      <th>'yellow curry paste'</th>\n      <th>'yellow food coloring'</th>\n      <th>'yellow split pea'</th>\n      <th>'yellow squash'</th>\n      <th>yogurt</th>\n      <th>zaatar</th>\n      <th>zest</th>\n      <th>zucchini</th>\n      <th>cuisine</th>\n    </tr>\n  </thead>\n  <tbody>\n    <tr>\n      <th>0</th>\n      <td>0</td>\n      <td>0</td>\n      <td>0</td>\n      <td>0</td>\n      <td>0</td>\n      <td>0</td>\n      <td>0</td>\n      <td>0</td>\n      <td>0</td>\n      <td>0</td>\n      <td>...</td>\n      <td>0</td>\n      <td>0</td>\n      <td>0</td>\n      <td>0</td>\n      <td>0</td>\n      <td>0</td>\n      <td>0</td>\n      <td>0</td>\n      <td>0</td>\n      <td>0</td>\n    </tr>\n    <tr>\n      <th>1</th>\n      <td>0</td>\n      <td>0</td>\n      <td>0</td>\n      <td>0</td>\n      <td>0</td>\n      <td>0</td>\n      <td>0</td>\n      <td>0</td>\n      <td>0</td>\n      <td>0</td>\n      <td>...</td>\n      <td>0</td>\n      <td>0</td>\n      <td>0</td>\n      <td>0</td>\n      <td>0</td>\n      <td>0</td>\n      <td>0</td>\n      <td>0</td>\n      <td>0</td>\n      <td>0</td>\n    </tr>\n    <tr>\n      <th>2</th>\n      <td>0</td>\n      <td>0</td>\n      <td>0</td>\n      <td>0</td>\n      <td>0</td>\n      <td>0</td>\n      <td>0</td>\n      <td>0</td>\n      <td>0</td>\n      <td>0</td>\n      <td>...</td>\n      <td>0</td>\n      <td>0</td>\n      <td>0</td>\n      <td>0</td>\n      <td>0</td>\n      <td>0</td>\n      <td>0</td>\n      <td>0</td>\n      <td>0</td>\n      <td>0</td>\n    </tr>\n    <tr>\n      <th>3</th>\n      <td>0</td>\n      <td>0</td>\n      <td>0</td>\n      <td>0</td>\n      <td>0</td>\n      <td>0</td>\n      <td>0</td>\n      <td>0</td>\n      <td>0</td>\n      <td>0</td>\n      <td>...</td>\n      <td>0</td>\n      <td>0</td>\n      <td>0</td>\n      <td>0</td>\n      <td>0</td>\n      <td>0</td>\n      <td>0</td>\n      <td>0</td>\n      <td>0</td>\n      <td>0</td>\n    </tr>\n    <tr>\n      <th>4</th>\n      <td>0</td>\n      <td>0</td>\n      <td>0</td>\n      <td>0</td>\n      <td>0</td>\n      <td>0</td>\n      <td>0</td>\n      <td>0</td>\n      <td>0</td>\n      <td>0</td>\n      <td>...</td>\n      <td>0</td>\n      <td>0</td>\n      <td>0</td>\n      <td>0</td>\n      <td>0</td>\n      <td>0</td>\n      <td>0</td>\n      <td>0</td>\n      <td>0</td>\n      <td>0</td>\n    </tr>\n    <tr>\n      <th>...</th>\n      <td>...</td>\n      <td>...</td>\n      <td>...</td>\n      <td>...</td>\n      <td>...</td>\n      <td>...</td>\n      <td>...</td>\n      <td>...</td>\n      <td>...</td>\n      <td>...</td>\n      <td>...</td>\n      <td>...</td>\n      <td>...</td>\n      <td>...</td>\n      <td>...</td>\n      <td>...</td>\n      <td>...</td>\n      <td>...</td>\n      <td>...</td>\n      <td>...</td>\n      <td>...</td>\n    </tr>\n    <tr>\n      <th>4231</th>\n      <td>0</td>\n      <td>0</td>\n      <td>0</td>\n      <td>0</td>\n      <td>0</td>\n      <td>0</td>\n      <td>0</td>\n      <td>0</td>\n      <td>0</td>\n      <td>0</td>\n      <td>...</td>\n      <td>0</td>\n      <td>0</td>\n      <td>0</td>\n      <td>0</td>\n      <td>0</td>\n      <td>0</td>\n      <td>0</td>\n      <td>0</td>\n      <td>0</td>\n      <td>11</td>\n    </tr>\n    <tr>\n      <th>4232</th>\n      <td>0</td>\n      <td>0</td>\n      <td>0</td>\n      <td>0</td>\n      <td>0</td>\n      <td>0</td>\n      <td>0</td>\n      <td>0</td>\n      <td>0</td>\n      <td>0</td>\n      <td>...</td>\n      <td>0</td>\n      <td>0</td>\n      <td>0</td>\n      <td>0</td>\n      <td>0</td>\n      <td>0</td>\n      <td>0</td>\n      <td>0</td>\n      <td>0</td>\n      <td>11</td>\n    </tr>\n    <tr>\n      <th>4233</th>\n      <td>0</td>\n      <td>0</td>\n      <td>0</td>\n      <td>0</td>\n      <td>0</td>\n      <td>0</td>\n      <td>0</td>\n      <td>0</td>\n      <td>0</td>\n      <td>0</td>\n      <td>...</td>\n      <td>0</td>\n      <td>0</td>\n      <td>0</td>\n      <td>0</td>\n      <td>0</td>\n      <td>0</td>\n      <td>0</td>\n      <td>0</td>\n      <td>0</td>\n      <td>11</td>\n    </tr>\n    <tr>\n      <th>4234</th>\n      <td>0</td>\n      <td>0</td>\n      <td>0</td>\n      <td>0</td>\n      <td>0</td>\n      <td>0</td>\n      <td>0</td>\n      <td>0</td>\n      <td>0</td>\n      <td>0</td>\n      <td>...</td>\n      <td>0</td>\n      <td>0</td>\n      <td>0</td>\n      <td>0</td>\n      <td>0</td>\n      <td>0</td>\n      <td>0</td>\n      <td>0</td>\n      <td>0</td>\n      <td>11</td>\n    </tr>\n    <tr>\n      <th>4235</th>\n      <td>0</td>\n      <td>0</td>\n      <td>0</td>\n      <td>0</td>\n      <td>0</td>\n      <td>0</td>\n      <td>0</td>\n      <td>0</td>\n      <td>0</td>\n      <td>0</td>\n      <td>...</td>\n      <td>0</td>\n      <td>0</td>\n      <td>0</td>\n      <td>0</td>\n      <td>0</td>\n      <td>0</td>\n      <td>0</td>\n      <td>0</td>\n      <td>0</td>\n      <td>11</td>\n    </tr>\n  </tbody>\n</table>\n<p>4236 rows × 710 columns</p>\n</div>"
     },
     "metadata": {},
     "execution_count": 6
    }
   ],
   "source": [
    "df"
   ]
  },
  {
   "cell_type": "code",
   "execution_count": 11,
   "metadata": {},
   "outputs": [
    {
     "output_type": "execute_result",
     "data": {
      "text/plain": [
       "0     353\n",
       "4     353\n",
       "8     353\n",
       "1     353\n",
       "5     353\n",
       "9     353\n",
       "2     353\n",
       "6     353\n",
       "10    353\n",
       "3     353\n",
       "7     353\n",
       "11    353\n",
       "Name: cuisine, dtype: int64"
      ]
     },
     "metadata": {},
     "execution_count": 11
    }
   ],
   "source": [
    "df.cuisine.value_counts()"
   ]
  },
  {
   "cell_type": "code",
   "execution_count": 22,
   "metadata": {},
   "outputs": [],
   "source": [
    "data = df.to_numpy()\n",
    "num_classes = len(df.cuisine.unique())"
   ]
  },
  {
   "cell_type": "code",
   "execution_count": 23,
   "metadata": {},
   "outputs": [],
   "source": [
    "x_train, x_test, y_train, y_test = train_test_split(data[:, :-1], data[:, -1], test_size=0.3, shuffle=True)"
   ]
  },
  {
   "cell_type": "code",
   "execution_count": 37,
   "metadata": {},
   "outputs": [
    {
     "output_type": "stream",
     "name": "stdout",
     "text": [
      "Model: \"sequential\"\n_________________________________________________________________\nLayer (type)                 Output Shape              Param #   \n=================================================================\ndense (Dense)                (None, 128)               90880     \n_________________________________________________________________\nleaky_re_lu (LeakyReLU)      (None, 128)               0         \n_________________________________________________________________\ndropout (Dropout)            (None, 128)               0         \n_________________________________________________________________\ndense_1 (Dense)              (None, 128)               16512     \n_________________________________________________________________\nleaky_re_lu_1 (LeakyReLU)    (None, 128)               0         \n_________________________________________________________________\ndropout_1 (Dropout)          (None, 128)               0         \n_________________________________________________________________\ndense_2 (Dense)              (None, 12)                1548      \n=================================================================\nTotal params: 108,940\nTrainable params: 108,940\nNon-trainable params: 0\n_________________________________________________________________\n"
     ]
    }
   ],
   "source": [
    "tf.keras.backend.clear_session()\n",
    "model = tf.keras.Sequential([\n",
    "    tf.keras.layers.Dense(128),\n",
    "    tf.keras.layers.LeakyReLU(),\n",
    "    tf.keras.layers.Dropout(0.5),\n",
    "    tf.keras.layers.Dense(128),\n",
    "    tf.keras.layers.LeakyReLU(),\n",
    "    tf.keras.layers.Dropout(0.5),\n",
    "    tf.keras.layers.Dense(num_classes)\n",
    "])\n",
    "model.compile(optimizer='adam',\n",
    "              loss=tf.keras.losses.SparseCategoricalCrossentropy(from_logits=True),\n",
    "              metrics=['accuracy'])\n",
    "model.build(input_shape=(None, x_train.shape[1],))\n",
    "model.summary()"
   ]
  },
  {
   "cell_type": "code",
   "execution_count": 38,
   "metadata": {},
   "outputs": [
    {
     "output_type": "stream",
     "name": "stdout",
     "text": [
      "Epoch 1/20\n",
      "93/93 [==============================] - 1s 5ms/step - loss: 2.3385 - accuracy: 0.2126 - val_loss: 1.4897 - val_accuracy: 0.6349\n",
      "Epoch 2/20\n",
      "93/93 [==============================] - 0s 3ms/step - loss: 1.3391 - accuracy: 0.6153 - val_loss: 0.9309 - val_accuracy: 0.6939\n",
      "Epoch 3/20\n",
      "93/93 [==============================] - 0s 3ms/step - loss: 0.9145 - accuracy: 0.7075 - val_loss: 0.8278 - val_accuracy: 0.7215\n",
      "Epoch 4/20\n",
      "93/93 [==============================] - 0s 3ms/step - loss: 0.7632 - accuracy: 0.7536 - val_loss: 0.7891 - val_accuracy: 0.7451\n",
      "Epoch 5/20\n",
      "93/93 [==============================] - 0s 3ms/step - loss: 0.6387 - accuracy: 0.8058 - val_loss: 0.7770 - val_accuracy: 0.7467\n",
      "Epoch 6/20\n",
      "93/93 [==============================] - 0s 3ms/step - loss: 0.5638 - accuracy: 0.8275 - val_loss: 0.7725 - val_accuracy: 0.7553\n",
      "Epoch 7/20\n",
      "93/93 [==============================] - 0s 3ms/step - loss: 0.5369 - accuracy: 0.8382 - val_loss: 0.7813 - val_accuracy: 0.7592\n",
      "Epoch 8/20\n",
      "93/93 [==============================] - 0s 3ms/step - loss: 0.4586 - accuracy: 0.8498 - val_loss: 0.7837 - val_accuracy: 0.7569\n",
      "Epoch 9/20\n",
      "93/93 [==============================] - 0s 3ms/step - loss: 0.4444 - accuracy: 0.8575 - val_loss: 0.7803 - val_accuracy: 0.7600\n",
      "Epoch 10/20\n",
      "93/93 [==============================] - 0s 3ms/step - loss: 0.4047 - accuracy: 0.8865 - val_loss: 0.7954 - val_accuracy: 0.7616\n",
      "Epoch 11/20\n",
      "93/93 [==============================] - 0s 3ms/step - loss: 0.3793 - accuracy: 0.8773 - val_loss: 0.8158 - val_accuracy: 0.7537\n",
      "Epoch 12/20\n",
      "93/93 [==============================] - 0s 3ms/step - loss: 0.3790 - accuracy: 0.8829 - val_loss: 0.8249 - val_accuracy: 0.7561\n",
      "Epoch 13/20\n",
      "93/93 [==============================] - 0s 3ms/step - loss: 0.3149 - accuracy: 0.8993 - val_loss: 0.8443 - val_accuracy: 0.7545\n",
      "Epoch 14/20\n",
      "93/93 [==============================] - 0s 3ms/step - loss: 0.3352 - accuracy: 0.8922 - val_loss: 0.8607 - val_accuracy: 0.7545\n",
      "Epoch 15/20\n",
      "93/93 [==============================] - 0s 3ms/step - loss: 0.3066 - accuracy: 0.9006 - val_loss: 0.8725 - val_accuracy: 0.7553\n",
      "Epoch 16/20\n",
      "93/93 [==============================] - 0s 3ms/step - loss: 0.3051 - accuracy: 0.9022 - val_loss: 0.9004 - val_accuracy: 0.7537\n",
      "Epoch 17/20\n",
      "93/93 [==============================] - 0s 3ms/step - loss: 0.2672 - accuracy: 0.9156 - val_loss: 0.9215 - val_accuracy: 0.7632\n",
      "Epoch 18/20\n",
      "93/93 [==============================] - 0s 3ms/step - loss: 0.2400 - accuracy: 0.9236 - val_loss: 0.9486 - val_accuracy: 0.7530\n",
      "Epoch 19/20\n",
      "93/93 [==============================] - 0s 3ms/step - loss: 0.2315 - accuracy: 0.9149 - val_loss: 0.9632 - val_accuracy: 0.7553\n",
      "Epoch 20/20\n",
      "93/93 [==============================] - 0s 3ms/step - loss: 0.2408 - accuracy: 0.9253 - val_loss: 0.9833 - val_accuracy: 0.7545\n"
     ]
    },
    {
     "output_type": "execute_result",
     "data": {
      "text/plain": [
       "<tensorflow.python.keras.callbacks.History at 0x7fa59476a1f0>"
      ]
     },
     "metadata": {},
     "execution_count": 38
    }
   ],
   "source": [
    "model.fit(\n",
    "    x=x_train,\n",
    "    y=y_train,\n",
    "    batch_size=32,\n",
    "    epochs=20,\n",
    "    validation_data=(x_test, y_test),\n",
    "    shuffle=True\n",
    ")"
   ]
  },
  {
   "cell_type": "code",
   "execution_count": null,
   "metadata": {},
   "outputs": [],
   "source": []
  }
 ]
}